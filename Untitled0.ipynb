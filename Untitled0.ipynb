{
  "nbformat": 4,
  "nbformat_minor": 0,
  "metadata": {
    "colab": {
      "provenance": [],
      "authorship_tag": "ABX9TyND0Y5JyZk4snsbQ0Uz84sH",
      "include_colab_link": true
    },
    "kernelspec": {
      "name": "python3",
      "display_name": "Python 3"
    },
    "language_info": {
      "name": "python"
    }
  },
  "cells": [
    {
      "cell_type": "markdown",
      "metadata": {
        "id": "view-in-github",
        "colab_type": "text"
      },
      "source": [
        "<a href=\"https://colab.research.google.com/github/srinivasanpdr/onion/blob/main/Untitled0.ipynb\" target=\"_parent\"><img src=\"https://colab.research.google.com/assets/colab-badge.svg\" alt=\"Open In Colab\"/></a>"
      ]
    },
    {
      "cell_type": "code",
      "execution_count": null,
      "metadata": {
        "id": "s192PJgqpWF0"
      },
      "outputs": [],
      "source": [
        "from google.colab import drive\n",
        "drive.mount('/content/drive')"
      ]
    },
    {
      "cell_type": "code",
      "source": [
        "from keras.models import Sequential\n",
        "from keras.layers import Dropout, Flatten, Dense"
      ],
      "metadata": {
        "id": "ySA9MrY5D1CB"
      },
      "execution_count": null,
      "outputs": []
    },
    {
      "cell_type": "code",
      "source": [
        "import os\n",
        "import zipfile\n",
        "from tensorflow.keras.preprocessing.image import ImageDataGenerator"
      ],
      "metadata": {
        "id": "bdNMKUGUD47A"
      },
      "execution_count": null,
      "outputs": []
    },
    {
      "cell_type": "code",
      "source": [
        "local_zip ='/content/drive/MyDrive/archive.zip' #upload the zip and paste the location here.\n",
        "zip_ref = zipfile.ZipFile(local_zip, 'r')\n",
        "zip_ref.extractall('Desktop:/tmp')\n",
        "zip_ref.close()"
      ],
      "metadata": {
        "id": "bSMFN77HD9xf"
      },
      "execution_count": null,
      "outputs": []
    },
    {
      "cell_type": "code",
      "source": [
        "train_dir='Desktop:/tmp'\n",
        "valid_dir='Desktop:/tmp'"
      ],
      "metadata": {
        "id": "wAJh1h_9EA0A"
      },
      "execution_count": null,
      "outputs": []
    },
    {
      "cell_type": "code",
      "source": [
        "print(len(os.listdir('Desktop:/tmp/CT_COVID')))\n",
        "print(len(os.listdir('Desktop:/tmp/CT_NonCOVID')))\n",
        "print(len(os.listdir('Desktop:/tmp/CT_COVID')))\n",
        "print(len(os.listdir('Desktop:/tmp/CT_NonCOVID')))"
      ],
      "metadata": {
        "id": "gYeI9UpsEIDt"
      },
      "execution_count": null,
      "outputs": []
    },
    {
      "cell_type": "code",
      "source": [
        "from keras.utils.np_utils import to_categorical\n",
        "from tensorflow.keras.applications import VGG16\n",
        "vgg = VGG16(weights='imagenet', include_top= False, input_shape=(224,224,3))"
      ],
      "metadata": {
        "id": "QlTYgirIENyc"
      },
      "execution_count": null,
      "outputs": []
    },
    {
      "cell_type": "code",
      "source": [
        "model = Sequential()"
      ],
      "metadata": {
        "id": "pKE916vJEXlC"
      },
      "execution_count": null,
      "outputs": []
    },
    {
      "cell_type": "code",
      "source": [
        "model.add(vgg)"
      ],
      "metadata": {
        "id": "RjUxGdtmEati"
      },
      "execution_count": null,
      "outputs": []
    },
    {
      "cell_type": "code",
      "source": [
        "model.add(Flatten())\n",
        "model.add(Dropout(0.2))\n",
        "model.add(Dense(256, activation='relu'))\n",
        "model.add(Dense(1, activation='sigmoid'))"
      ],
      "metadata": {
        "id": "pe8GgCi0EefB"
      },
      "execution_count": null,
      "outputs": []
    },
    {
      "cell_type": "code",
      "source": [
        "vgg.trainable = False"
      ],
      "metadata": {
        "id": "r-6hS0mKEhxh"
      },
      "execution_count": null,
      "outputs": []
    },
    {
      "cell_type": "code",
      "source": [
        "train_datagen = ImageDataGenerator(rescale=1./255,\n",
        "                                  zoom_range=0.2,\n",
        "                                  width_shift_range=0.2,\n",
        "                                  height_shift_range=0.2,\n",
        "                                  horizontal_flip=True,\n",
        "                                   vertical_flip=True)\n",
        "train_generator = train_datagen.flow_from_directory(train_dir, batch_size=5, class_mode='binary', target_size=(224,224))"
      ],
      "metadata": {
        "id": "IZkUEpSwElCQ"
      },
      "execution_count": null,
      "outputs": []
    },
    {
      "cell_type": "code",
      "source": [
        "validation_datagen = ImageDataGenerator(rescale=1.0/255.)\n",
        "validation_generator = validation_datagen.flow_from_directory(valid_dir, batch_size=5, class_mode='binary', target_size=(224,224))"
      ],
      "metadata": {
        "id": "CnPs4Q2xEo4g"
      },
      "execution_count": null,
      "outputs": []
    },
    {
      "cell_type": "code",
      "source": [
        "model.compile(optimizer='adam', loss='binary_crossentropy', metrics=['acc'])"
      ],
      "metadata": {
        "id": "LD2rFXB8Et_u"
      },
      "execution_count": null,
      "outputs": []
    },
    {
      "cell_type": "code",
      "source": [
        "epoch = 13 #@param {type:\"slider\", min:1, max:100, step:1}"
      ],
      "metadata": {
        "id": "syUvC6uJExJW"
      },
      "execution_count": null,
      "outputs": []
    },
    {
      "cell_type": "code",
      "source": [
        "print(f'Epochs: {epoch}...')"
      ],
      "metadata": {
        "id": "O9ZDjMbiE1QY"
      },
      "execution_count": null,
      "outputs": []
    },
    {
      "cell_type": "code",
      "source": [
        "history = model.fit(train_generator, epochs=epoch, validation_data=validation_generator)\n",
        "model.save('vgg.h5')"
      ],
      "metadata": {
        "id": "DeKi76sqE4U2"
      },
      "execution_count": null,
      "outputs": []
    },
    {
      "cell_type": "code",
      "source": [
        "import matplotlib.pyplot as plt"
      ],
      "metadata": {
        "id": "7oD-eqv3E_aN"
      },
      "execution_count": null,
      "outputs": []
    },
    {
      "cell_type": "code",
      "source": [
        "acc=history.history['acc']\n",
        "val_acc=history.history['val_acc']\n",
        "loss=history.history['loss']\n",
        "val_loss=history.history['val_loss']"
      ],
      "metadata": {
        "id": "QAJAU-taFG3i"
      },
      "execution_count": null,
      "outputs": []
    },
    {
      "cell_type": "code",
      "source": [
        "plt.plot( acc)\n",
        "plt.plot( val_acc)\n",
        "plt.title('Training and validation accuracy')\n",
        "plt.figure()"
      ],
      "metadata": {
        "id": "d7Y-u__hFJjq"
      },
      "execution_count": null,
      "outputs": []
    },
    {
      "cell_type": "code",
      "source": [
        "import numpy as np\n",
        "from google.colab import files\n",
        "from keras.preprocessing import image"
      ],
      "metadata": {
        "id": "RUcQ7ztfFMjS"
      },
      "execution_count": null,
      "outputs": []
    },
    {
      "cell_type": "code",
      "source": [
        "uploaded = files.upload()"
      ],
      "metadata": {
        "id": "LxGzvrAJFPjZ"
      },
      "execution_count": null,
      "outputs": []
    },
    {
      "cell_type": "code",
      "source": [
        "for fn in uploaded.keys();"
      ],
      "metadata": {
        "id": "6TLk2AQXFSSJ"
      },
      "execution_count": null,
      "outputs": []
    },
    {
      "cell_type": "code",
      "source": [
        "path = '/content/' + fn\n",
        "  img = image.load_img(path, target_size=(224,224,3))\n",
        "  x = image.img_to_array(img)\n",
        "  x = np.expand_dims(x, axis=0)"
      ],
      "metadata": {
        "id": "cbfPK3uiFUtx"
      },
      "execution_count": null,
      "outputs": []
    },
    {
      "cell_type": "code",
      "source": [
        "images = np.vstack([x])\n",
        "  classes= model.predict(images, batch_size=5)"
      ],
      "metadata": {
        "id": "bTAeYdhUFX44"
      },
      "execution_count": null,
      "outputs": []
    },
    {
      "cell_type": "code",
      "source": [
        "plt.imshow(img)\n",
        "  if (classes[0]>0.5):\n",
        "    plt.title(fn + \"  - COVID-19 Negative\" )\n",
        "  else:\n",
        "    plt.title(fn + \"  - COVID-19 Positive\" )\n",
        "  plt.axis(\"Off\")\n",
        "  plt.show()"
      ],
      "metadata": {
        "id": "FUwtaP4MFadp"
      },
      "execution_count": null,
      "outputs": []
    }
  ]
}